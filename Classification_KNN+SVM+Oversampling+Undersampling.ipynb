{
  "nbformat": 4,
  "nbformat_minor": 0,
  "metadata": {
    "colab": {
      "provenance": []
    },
    "kernelspec": {
      "name": "python3",
      "display_name": "Python 3"
    },
    "language_info": {
      "name": "python"
    }
  },
  "cells": [
    {
      "cell_type": "code",
      "execution_count": null,
      "metadata": {
        "id": "rkTLoJbv2ONi",
        "colab": {
          "base_uri": "https://localhost:8080/"
        },
        "outputId": "0dcb15dd-bb7f-4ba8-958f-ebddfbd33ca0"
      },
      "outputs": [
        {
          "output_type": "stream",
          "name": "stdout",
          "text": [
            "Mounted at /content/drive/\n"
          ]
        }
      ],
      "source": [
        "from google.colab import drive\n",
        "drive.mount('/content/drive/', force_remount=True)"
      ]
    },
    {
      "cell_type": "code",
      "source": [
        "#Basic imports\n",
        "import numpy as np\n",
        "import pandas as pd\n",
        "\n",
        "import numpy as np\n",
        "import pandas as pd\n",
        "import statsmodels.api as sm\n",
        "import matplotlib.pyplot as plt\n",
        "import seaborn as sns\n",
        "sns.set()\n",
        "from sklearn.cluster import KMeans\n",
        "from sklearn.metrics import precision_score\n",
        "from sklearn.metrics import recall_score\n",
        "from sklearn.metrics import f1_score\n",
        "from sklearn.metrics import classification_report\n",
        "\n",
        "\n",
        "#plotly imports\n",
        "import plotly as py\n",
        "import plotly.graph_objs as go\n",
        "from plotly.offline import download_plotlyjs, init_notebook_mode, plot, iplot\n",
        "\n",
        "import warnings\n",
        "warnings.simplefilter('ignore')\n",
        "\n",
        "df = pd.read_csv(\"/content/drive/MyDrive/heart.csv\")"
      ],
      "metadata": {
        "id": "6TnO2nMV2TtG"
      },
      "execution_count": null,
      "outputs": []
    },
    {
      "cell_type": "code",
      "source": [
        "from sklearn.neighbors import KNeighborsClassifier  \n",
        "from sklearn.metrics import accuracy_score"
      ],
      "metadata": {
        "id": "VzewrQlKqQrA"
      },
      "execution_count": null,
      "outputs": []
    },
    {
      "cell_type": "markdown",
      "source": [
        "# 1. Normalize the data using Min-max scaler"
      ],
      "metadata": {
        "id": "WyYwOwwCVi7u"
      }
    },
    {
      "cell_type": "code",
      "source": [
        "#oldpeak to int\n",
        "df['oldpeak'] = df['oldpeak'].astype(int) \n",
        "#categorical to object\n",
        "df['sex'] = df['sex'].astype(float) \n",
        "df['cp'] = df['cp'].astype(object) \n",
        "df['fbs'] = df['fbs'].astype(float) \n",
        "df['restecg'] = df['restecg'].astype(object) \n",
        "df['exang'] = df['exang'].astype(float) \n",
        "df['slope'] = df['slope'].astype(object) \n",
        "df['ca'] = df['ca'].astype(object) \n",
        "df['thal'] = df['thal'].astype(object) \n",
        "df['target'] = df['target'].astype(float) "
      ],
      "metadata": {
        "id": "ssxeVYoY2isP"
      },
      "execution_count": null,
      "outputs": []
    },
    {
      "cell_type": "code",
      "source": [
        "#normalize numerical features\n",
        "from sklearn.preprocessing import MinMaxScaler\n",
        "\n",
        "df_norm = df.copy()\n",
        "scaler = MinMaxScaler()\n",
        "#scaler.fit(data)\n",
        "df_norm[['age', 'trestbps', 'chol', 'thalach', 'oldpeak']] = scaler.fit_transform(df_norm[['age', 'trestbps', 'chol', 'thalach', 'oldpeak']])"
      ],
      "metadata": {
        "id": "Tu261Imx2dQ4"
      },
      "execution_count": null,
      "outputs": []
    },
    {
      "cell_type": "code",
      "source": [
        "df_norm.head(3)"
      ],
      "metadata": {
        "colab": {
          "base_uri": "https://localhost:8080/",
          "height": 144
        },
        "id": "0Nd6j7l2CJ5A",
        "outputId": "ae4ffcab-ae19-4402-96aa-3c2455b4e863"
      },
      "execution_count": null,
      "outputs": [
        {
          "output_type": "execute_result",
          "data": {
            "text/plain": [
              "        age  sex cp  trestbps      chol  fbs restecg   thalach  exang  \\\n",
              "0  0.479167  1.0  0  0.292453  0.196347  0.0       1  0.740458    0.0   \n",
              "1  0.500000  1.0  0  0.433962  0.175799  1.0       0  0.641221    1.0   \n",
              "2  0.854167  1.0  0  0.481132  0.109589  0.0       1  0.412214    1.0   \n",
              "\n",
              "    oldpeak slope ca thal  target  \n",
              "0  0.166667     2  2    3     0.0  \n",
              "1  0.500000     0  0    3     0.0  \n",
              "2  0.333333     0  0    3     0.0  "
            ],
            "text/html": [
              "\n",
              "  <div id=\"df-947d2a7c-939d-4bed-8981-97dfd11b7d02\">\n",
              "    <div class=\"colab-df-container\">\n",
              "      <div>\n",
              "<style scoped>\n",
              "    .dataframe tbody tr th:only-of-type {\n",
              "        vertical-align: middle;\n",
              "    }\n",
              "\n",
              "    .dataframe tbody tr th {\n",
              "        vertical-align: top;\n",
              "    }\n",
              "\n",
              "    .dataframe thead th {\n",
              "        text-align: right;\n",
              "    }\n",
              "</style>\n",
              "<table border=\"1\" class=\"dataframe\">\n",
              "  <thead>\n",
              "    <tr style=\"text-align: right;\">\n",
              "      <th></th>\n",
              "      <th>age</th>\n",
              "      <th>sex</th>\n",
              "      <th>cp</th>\n",
              "      <th>trestbps</th>\n",
              "      <th>chol</th>\n",
              "      <th>fbs</th>\n",
              "      <th>restecg</th>\n",
              "      <th>thalach</th>\n",
              "      <th>exang</th>\n",
              "      <th>oldpeak</th>\n",
              "      <th>slope</th>\n",
              "      <th>ca</th>\n",
              "      <th>thal</th>\n",
              "      <th>target</th>\n",
              "    </tr>\n",
              "  </thead>\n",
              "  <tbody>\n",
              "    <tr>\n",
              "      <th>0</th>\n",
              "      <td>0.479167</td>\n",
              "      <td>1.0</td>\n",
              "      <td>0</td>\n",
              "      <td>0.292453</td>\n",
              "      <td>0.196347</td>\n",
              "      <td>0.0</td>\n",
              "      <td>1</td>\n",
              "      <td>0.740458</td>\n",
              "      <td>0.0</td>\n",
              "      <td>0.166667</td>\n",
              "      <td>2</td>\n",
              "      <td>2</td>\n",
              "      <td>3</td>\n",
              "      <td>0.0</td>\n",
              "    </tr>\n",
              "    <tr>\n",
              "      <th>1</th>\n",
              "      <td>0.500000</td>\n",
              "      <td>1.0</td>\n",
              "      <td>0</td>\n",
              "      <td>0.433962</td>\n",
              "      <td>0.175799</td>\n",
              "      <td>1.0</td>\n",
              "      <td>0</td>\n",
              "      <td>0.641221</td>\n",
              "      <td>1.0</td>\n",
              "      <td>0.500000</td>\n",
              "      <td>0</td>\n",
              "      <td>0</td>\n",
              "      <td>3</td>\n",
              "      <td>0.0</td>\n",
              "    </tr>\n",
              "    <tr>\n",
              "      <th>2</th>\n",
              "      <td>0.854167</td>\n",
              "      <td>1.0</td>\n",
              "      <td>0</td>\n",
              "      <td>0.481132</td>\n",
              "      <td>0.109589</td>\n",
              "      <td>0.0</td>\n",
              "      <td>1</td>\n",
              "      <td>0.412214</td>\n",
              "      <td>1.0</td>\n",
              "      <td>0.333333</td>\n",
              "      <td>0</td>\n",
              "      <td>0</td>\n",
              "      <td>3</td>\n",
              "      <td>0.0</td>\n",
              "    </tr>\n",
              "  </tbody>\n",
              "</table>\n",
              "</div>\n",
              "      <button class=\"colab-df-convert\" onclick=\"convertToInteractive('df-947d2a7c-939d-4bed-8981-97dfd11b7d02')\"\n",
              "              title=\"Convert this dataframe to an interactive table.\"\n",
              "              style=\"display:none;\">\n",
              "        \n",
              "  <svg xmlns=\"http://www.w3.org/2000/svg\" height=\"24px\"viewBox=\"0 0 24 24\"\n",
              "       width=\"24px\">\n",
              "    <path d=\"M0 0h24v24H0V0z\" fill=\"none\"/>\n",
              "    <path d=\"M18.56 5.44l.94 2.06.94-2.06 2.06-.94-2.06-.94-.94-2.06-.94 2.06-2.06.94zm-11 1L8.5 8.5l.94-2.06 2.06-.94-2.06-.94L8.5 2.5l-.94 2.06-2.06.94zm10 10l.94 2.06.94-2.06 2.06-.94-2.06-.94-.94-2.06-.94 2.06-2.06.94z\"/><path d=\"M17.41 7.96l-1.37-1.37c-.4-.4-.92-.59-1.43-.59-.52 0-1.04.2-1.43.59L10.3 9.45l-7.72 7.72c-.78.78-.78 2.05 0 2.83L4 21.41c.39.39.9.59 1.41.59.51 0 1.02-.2 1.41-.59l7.78-7.78 2.81-2.81c.8-.78.8-2.07 0-2.86zM5.41 20L4 18.59l7.72-7.72 1.47 1.35L5.41 20z\"/>\n",
              "  </svg>\n",
              "      </button>\n",
              "      \n",
              "  <style>\n",
              "    .colab-df-container {\n",
              "      display:flex;\n",
              "      flex-wrap:wrap;\n",
              "      gap: 12px;\n",
              "    }\n",
              "\n",
              "    .colab-df-convert {\n",
              "      background-color: #E8F0FE;\n",
              "      border: none;\n",
              "      border-radius: 50%;\n",
              "      cursor: pointer;\n",
              "      display: none;\n",
              "      fill: #1967D2;\n",
              "      height: 32px;\n",
              "      padding: 0 0 0 0;\n",
              "      width: 32px;\n",
              "    }\n",
              "\n",
              "    .colab-df-convert:hover {\n",
              "      background-color: #E2EBFA;\n",
              "      box-shadow: 0px 1px 2px rgba(60, 64, 67, 0.3), 0px 1px 3px 1px rgba(60, 64, 67, 0.15);\n",
              "      fill: #174EA6;\n",
              "    }\n",
              "\n",
              "    [theme=dark] .colab-df-convert {\n",
              "      background-color: #3B4455;\n",
              "      fill: #D2E3FC;\n",
              "    }\n",
              "\n",
              "    [theme=dark] .colab-df-convert:hover {\n",
              "      background-color: #434B5C;\n",
              "      box-shadow: 0px 1px 3px 1px rgba(0, 0, 0, 0.15);\n",
              "      filter: drop-shadow(0px 1px 2px rgba(0, 0, 0, 0.3));\n",
              "      fill: #FFFFFF;\n",
              "    }\n",
              "  </style>\n",
              "\n",
              "      <script>\n",
              "        const buttonEl =\n",
              "          document.querySelector('#df-947d2a7c-939d-4bed-8981-97dfd11b7d02 button.colab-df-convert');\n",
              "        buttonEl.style.display =\n",
              "          google.colab.kernel.accessAllowed ? 'block' : 'none';\n",
              "\n",
              "        async function convertToInteractive(key) {\n",
              "          const element = document.querySelector('#df-947d2a7c-939d-4bed-8981-97dfd11b7d02');\n",
              "          const dataTable =\n",
              "            await google.colab.kernel.invokeFunction('convertToInteractive',\n",
              "                                                     [key], {});\n",
              "          if (!dataTable) return;\n",
              "\n",
              "          const docLinkHtml = 'Like what you see? Visit the ' +\n",
              "            '<a target=\"_blank\" href=https://colab.research.google.com/notebooks/data_table.ipynb>data table notebook</a>'\n",
              "            + ' to learn more about interactive tables.';\n",
              "          element.innerHTML = '';\n",
              "          dataTable['output_type'] = 'display_data';\n",
              "          await google.colab.output.renderOutput(dataTable, element);\n",
              "          const docLink = document.createElement('div');\n",
              "          docLink.innerHTML = docLinkHtml;\n",
              "          element.appendChild(docLink);\n",
              "        }\n",
              "      </script>\n",
              "    </div>\n",
              "  </div>\n",
              "  "
            ]
          },
          "metadata": {},
          "execution_count": 112
        }
      ]
    },
    {
      "cell_type": "markdown",
      "source": [
        "# 2. Transform categorical to normal features using One-hot Encoding"
      ],
      "metadata": {
        "id": "t-Eprd8ezV2f"
      }
    },
    {
      "cell_type": "code",
      "source": [
        "#We use pandas's 'get_dummies()' method for hot-encoding\n",
        "df_norm = pd.get_dummies(df_norm, columns = ['cp', 'restecg', 'slope', 'ca', 'thal'])"
      ],
      "metadata": {
        "id": "aqQk2dcm2RLW"
      },
      "execution_count": null,
      "outputs": []
    },
    {
      "cell_type": "code",
      "source": [
        "df_norm.head(3)"
      ],
      "metadata": {
        "colab": {
          "base_uri": "https://localhost:8080/",
          "height": 173
        },
        "id": "1MCwc_A9BZn3",
        "outputId": "38b5dbab-7ba0-46d3-f9b8-ce583d9a34bc"
      },
      "execution_count": null,
      "outputs": [
        {
          "output_type": "execute_result",
          "data": {
            "text/plain": [
              "        age  sex  trestbps      chol  fbs   thalach  exang   oldpeak  target  \\\n",
              "0  0.479167  1.0  0.292453  0.196347  0.0  0.740458    0.0  0.166667     0.0   \n",
              "1  0.500000  1.0  0.433962  0.175799  1.0  0.641221    1.0  0.500000     0.0   \n",
              "2  0.854167  1.0  0.481132  0.109589  0.0  0.412214    1.0  0.333333     0.0   \n",
              "\n",
              "   cp_0  ...  slope_2  ca_0  ca_1  ca_2  ca_3  ca_4  thal_0  thal_1  thal_2  \\\n",
              "0     1  ...        1     0     0     1     0     0       0       0       0   \n",
              "1     1  ...        0     1     0     0     0     0       0       0       0   \n",
              "2     1  ...        0     1     0     0     0     0       0       0       0   \n",
              "\n",
              "   thal_3  \n",
              "0       1  \n",
              "1       1  \n",
              "2       1  \n",
              "\n",
              "[3 rows x 28 columns]"
            ],
            "text/html": [
              "\n",
              "  <div id=\"df-8d9a662b-db98-4150-9e0c-874f5ed2e621\">\n",
              "    <div class=\"colab-df-container\">\n",
              "      <div>\n",
              "<style scoped>\n",
              "    .dataframe tbody tr th:only-of-type {\n",
              "        vertical-align: middle;\n",
              "    }\n",
              "\n",
              "    .dataframe tbody tr th {\n",
              "        vertical-align: top;\n",
              "    }\n",
              "\n",
              "    .dataframe thead th {\n",
              "        text-align: right;\n",
              "    }\n",
              "</style>\n",
              "<table border=\"1\" class=\"dataframe\">\n",
              "  <thead>\n",
              "    <tr style=\"text-align: right;\">\n",
              "      <th></th>\n",
              "      <th>age</th>\n",
              "      <th>sex</th>\n",
              "      <th>trestbps</th>\n",
              "      <th>chol</th>\n",
              "      <th>fbs</th>\n",
              "      <th>thalach</th>\n",
              "      <th>exang</th>\n",
              "      <th>oldpeak</th>\n",
              "      <th>target</th>\n",
              "      <th>cp_0</th>\n",
              "      <th>...</th>\n",
              "      <th>slope_2</th>\n",
              "      <th>ca_0</th>\n",
              "      <th>ca_1</th>\n",
              "      <th>ca_2</th>\n",
              "      <th>ca_3</th>\n",
              "      <th>ca_4</th>\n",
              "      <th>thal_0</th>\n",
              "      <th>thal_1</th>\n",
              "      <th>thal_2</th>\n",
              "      <th>thal_3</th>\n",
              "    </tr>\n",
              "  </thead>\n",
              "  <tbody>\n",
              "    <tr>\n",
              "      <th>0</th>\n",
              "      <td>0.479167</td>\n",
              "      <td>1.0</td>\n",
              "      <td>0.292453</td>\n",
              "      <td>0.196347</td>\n",
              "      <td>0.0</td>\n",
              "      <td>0.740458</td>\n",
              "      <td>0.0</td>\n",
              "      <td>0.166667</td>\n",
              "      <td>0.0</td>\n",
              "      <td>1</td>\n",
              "      <td>...</td>\n",
              "      <td>1</td>\n",
              "      <td>0</td>\n",
              "      <td>0</td>\n",
              "      <td>1</td>\n",
              "      <td>0</td>\n",
              "      <td>0</td>\n",
              "      <td>0</td>\n",
              "      <td>0</td>\n",
              "      <td>0</td>\n",
              "      <td>1</td>\n",
              "    </tr>\n",
              "    <tr>\n",
              "      <th>1</th>\n",
              "      <td>0.500000</td>\n",
              "      <td>1.0</td>\n",
              "      <td>0.433962</td>\n",
              "      <td>0.175799</td>\n",
              "      <td>1.0</td>\n",
              "      <td>0.641221</td>\n",
              "      <td>1.0</td>\n",
              "      <td>0.500000</td>\n",
              "      <td>0.0</td>\n",
              "      <td>1</td>\n",
              "      <td>...</td>\n",
              "      <td>0</td>\n",
              "      <td>1</td>\n",
              "      <td>0</td>\n",
              "      <td>0</td>\n",
              "      <td>0</td>\n",
              "      <td>0</td>\n",
              "      <td>0</td>\n",
              "      <td>0</td>\n",
              "      <td>0</td>\n",
              "      <td>1</td>\n",
              "    </tr>\n",
              "    <tr>\n",
              "      <th>2</th>\n",
              "      <td>0.854167</td>\n",
              "      <td>1.0</td>\n",
              "      <td>0.481132</td>\n",
              "      <td>0.109589</td>\n",
              "      <td>0.0</td>\n",
              "      <td>0.412214</td>\n",
              "      <td>1.0</td>\n",
              "      <td>0.333333</td>\n",
              "      <td>0.0</td>\n",
              "      <td>1</td>\n",
              "      <td>...</td>\n",
              "      <td>0</td>\n",
              "      <td>1</td>\n",
              "      <td>0</td>\n",
              "      <td>0</td>\n",
              "      <td>0</td>\n",
              "      <td>0</td>\n",
              "      <td>0</td>\n",
              "      <td>0</td>\n",
              "      <td>0</td>\n",
              "      <td>1</td>\n",
              "    </tr>\n",
              "  </tbody>\n",
              "</table>\n",
              "<p>3 rows × 28 columns</p>\n",
              "</div>\n",
              "      <button class=\"colab-df-convert\" onclick=\"convertToInteractive('df-8d9a662b-db98-4150-9e0c-874f5ed2e621')\"\n",
              "              title=\"Convert this dataframe to an interactive table.\"\n",
              "              style=\"display:none;\">\n",
              "        \n",
              "  <svg xmlns=\"http://www.w3.org/2000/svg\" height=\"24px\"viewBox=\"0 0 24 24\"\n",
              "       width=\"24px\">\n",
              "    <path d=\"M0 0h24v24H0V0z\" fill=\"none\"/>\n",
              "    <path d=\"M18.56 5.44l.94 2.06.94-2.06 2.06-.94-2.06-.94-.94-2.06-.94 2.06-2.06.94zm-11 1L8.5 8.5l.94-2.06 2.06-.94-2.06-.94L8.5 2.5l-.94 2.06-2.06.94zm10 10l.94 2.06.94-2.06 2.06-.94-2.06-.94-.94-2.06-.94 2.06-2.06.94z\"/><path d=\"M17.41 7.96l-1.37-1.37c-.4-.4-.92-.59-1.43-.59-.52 0-1.04.2-1.43.59L10.3 9.45l-7.72 7.72c-.78.78-.78 2.05 0 2.83L4 21.41c.39.39.9.59 1.41.59.51 0 1.02-.2 1.41-.59l7.78-7.78 2.81-2.81c.8-.78.8-2.07 0-2.86zM5.41 20L4 18.59l7.72-7.72 1.47 1.35L5.41 20z\"/>\n",
              "  </svg>\n",
              "      </button>\n",
              "      \n",
              "  <style>\n",
              "    .colab-df-container {\n",
              "      display:flex;\n",
              "      flex-wrap:wrap;\n",
              "      gap: 12px;\n",
              "    }\n",
              "\n",
              "    .colab-df-convert {\n",
              "      background-color: #E8F0FE;\n",
              "      border: none;\n",
              "      border-radius: 50%;\n",
              "      cursor: pointer;\n",
              "      display: none;\n",
              "      fill: #1967D2;\n",
              "      height: 32px;\n",
              "      padding: 0 0 0 0;\n",
              "      width: 32px;\n",
              "    }\n",
              "\n",
              "    .colab-df-convert:hover {\n",
              "      background-color: #E2EBFA;\n",
              "      box-shadow: 0px 1px 2px rgba(60, 64, 67, 0.3), 0px 1px 3px 1px rgba(60, 64, 67, 0.15);\n",
              "      fill: #174EA6;\n",
              "    }\n",
              "\n",
              "    [theme=dark] .colab-df-convert {\n",
              "      background-color: #3B4455;\n",
              "      fill: #D2E3FC;\n",
              "    }\n",
              "\n",
              "    [theme=dark] .colab-df-convert:hover {\n",
              "      background-color: #434B5C;\n",
              "      box-shadow: 0px 1px 3px 1px rgba(0, 0, 0, 0.15);\n",
              "      filter: drop-shadow(0px 1px 2px rgba(0, 0, 0, 0.3));\n",
              "      fill: #FFFFFF;\n",
              "    }\n",
              "  </style>\n",
              "\n",
              "      <script>\n",
              "        const buttonEl =\n",
              "          document.querySelector('#df-8d9a662b-db98-4150-9e0c-874f5ed2e621 button.colab-df-convert');\n",
              "        buttonEl.style.display =\n",
              "          google.colab.kernel.accessAllowed ? 'block' : 'none';\n",
              "\n",
              "        async function convertToInteractive(key) {\n",
              "          const element = document.querySelector('#df-8d9a662b-db98-4150-9e0c-874f5ed2e621');\n",
              "          const dataTable =\n",
              "            await google.colab.kernel.invokeFunction('convertToInteractive',\n",
              "                                                     [key], {});\n",
              "          if (!dataTable) return;\n",
              "\n",
              "          const docLinkHtml = 'Like what you see? Visit the ' +\n",
              "            '<a target=\"_blank\" href=https://colab.research.google.com/notebooks/data_table.ipynb>data table notebook</a>'\n",
              "            + ' to learn more about interactive tables.';\n",
              "          element.innerHTML = '';\n",
              "          dataTable['output_type'] = 'display_data';\n",
              "          await google.colab.output.renderOutput(dataTable, element);\n",
              "          const docLink = document.createElement('div');\n",
              "          docLink.innerHTML = docLinkHtml;\n",
              "          element.appendChild(docLink);\n",
              "        }\n",
              "      </script>\n",
              "    </div>\n",
              "  </div>\n",
              "  "
            ]
          },
          "metadata": {},
          "execution_count": 114
        }
      ]
    },
    {
      "cell_type": "code",
      "source": [
        "df_norm.info()"
      ],
      "metadata": {
        "colab": {
          "base_uri": "https://localhost:8080/"
        },
        "id": "sjvjQBQOtNhW",
        "outputId": "3a88b520-fd0e-466d-d794-02e0d5861d28"
      },
      "execution_count": null,
      "outputs": [
        {
          "output_type": "stream",
          "name": "stdout",
          "text": [
            "<class 'pandas.core.frame.DataFrame'>\n",
            "RangeIndex: 1025 entries, 0 to 1024\n",
            "Data columns (total 28 columns):\n",
            " #   Column     Non-Null Count  Dtype  \n",
            "---  ------     --------------  -----  \n",
            " 0   age        1025 non-null   float64\n",
            " 1   sex        1025 non-null   float64\n",
            " 2   trestbps   1025 non-null   float64\n",
            " 3   chol       1025 non-null   float64\n",
            " 4   fbs        1025 non-null   float64\n",
            " 5   thalach    1025 non-null   float64\n",
            " 6   exang      1025 non-null   float64\n",
            " 7   oldpeak    1025 non-null   float64\n",
            " 8   target     1025 non-null   float64\n",
            " 9   cp_0       1025 non-null   uint8  \n",
            " 10  cp_1       1025 non-null   uint8  \n",
            " 11  cp_2       1025 non-null   uint8  \n",
            " 12  cp_3       1025 non-null   uint8  \n",
            " 13  restecg_0  1025 non-null   uint8  \n",
            " 14  restecg_1  1025 non-null   uint8  \n",
            " 15  restecg_2  1025 non-null   uint8  \n",
            " 16  slope_0    1025 non-null   uint8  \n",
            " 17  slope_1    1025 non-null   uint8  \n",
            " 18  slope_2    1025 non-null   uint8  \n",
            " 19  ca_0       1025 non-null   uint8  \n",
            " 20  ca_1       1025 non-null   uint8  \n",
            " 21  ca_2       1025 non-null   uint8  \n",
            " 22  ca_3       1025 non-null   uint8  \n",
            " 23  ca_4       1025 non-null   uint8  \n",
            " 24  thal_0     1025 non-null   uint8  \n",
            " 25  thal_1     1025 non-null   uint8  \n",
            " 26  thal_2     1025 non-null   uint8  \n",
            " 27  thal_3     1025 non-null   uint8  \n",
            "dtypes: float64(9), uint8(19)\n",
            "memory usage: 91.2 KB\n"
          ]
        }
      ]
    },
    {
      "cell_type": "markdown",
      "source": [
        "# 3. Checking for Imbalances "
      ],
      "metadata": {
        "id": "KMIK2_fCmqpe"
      }
    },
    {
      "cell_type": "code",
      "source": [
        "# Checking for imbalanced data based on outcome.\n",
        "df_norm['target'].value_counts()"
      ],
      "metadata": {
        "colab": {
          "base_uri": "https://localhost:8080/"
        },
        "id": "eKPisRYrmuLv",
        "outputId": "7d4c6999-1fe8-4487-f00f-5a44e1228bb6"
      },
      "execution_count": null,
      "outputs": [
        {
          "output_type": "execute_result",
          "data": {
            "text/plain": [
              "1.0    526\n",
              "0.0    499\n",
              "Name: target, dtype: int64"
            ]
          },
          "metadata": {},
          "execution_count": 116
        }
      ]
    },
    {
      "cell_type": "markdown",
      "source": [
        "# 4. Creating Imbalance"
      ],
      "metadata": {
        "id": "0qxnbyHeGs1z"
      }
    },
    {
      "cell_type": "code",
      "source": [
        "#delete the first 400 rows where target = 1\n",
        "df_norm = df_norm.sort_values(by ='target')\n",
        "#df_norm.head(50)\n",
        "df_norm = df_norm.iloc[400:]\n",
        "#print(df_norm)\n",
        "df_norm['target'].value_counts()"
      ],
      "metadata": {
        "colab": {
          "base_uri": "https://localhost:8080/"
        },
        "id": "5r4KlyBsGruJ",
        "outputId": "7c79bf96-45b2-4c2b-834f-0ba1a03cde2a"
      },
      "execution_count": null,
      "outputs": [
        {
          "output_type": "execute_result",
          "data": {
            "text/plain": [
              "1.0    526\n",
              "0.0     99\n",
              "Name: target, dtype: int64"
            ]
          },
          "metadata": {},
          "execution_count": 117
        }
      ]
    },
    {
      "cell_type": "code",
      "source": [
        "df_norm.info()"
      ],
      "metadata": {
        "colab": {
          "base_uri": "https://localhost:8080/"
        },
        "id": "RoqMfpnvsxN5",
        "outputId": "74e10bc9-f9cb-463f-e49e-b3aa08a73b78"
      },
      "execution_count": null,
      "outputs": [
        {
          "output_type": "stream",
          "name": "stdout",
          "text": [
            "<class 'pandas.core.frame.DataFrame'>\n",
            "Int64Index: 625 entries, 220 to 172\n",
            "Data columns (total 28 columns):\n",
            " #   Column     Non-Null Count  Dtype  \n",
            "---  ------     --------------  -----  \n",
            " 0   age        625 non-null    float64\n",
            " 1   sex        625 non-null    float64\n",
            " 2   trestbps   625 non-null    float64\n",
            " 3   chol       625 non-null    float64\n",
            " 4   fbs        625 non-null    float64\n",
            " 5   thalach    625 non-null    float64\n",
            " 6   exang      625 non-null    float64\n",
            " 7   oldpeak    625 non-null    float64\n",
            " 8   target     625 non-null    float64\n",
            " 9   cp_0       625 non-null    uint8  \n",
            " 10  cp_1       625 non-null    uint8  \n",
            " 11  cp_2       625 non-null    uint8  \n",
            " 12  cp_3       625 non-null    uint8  \n",
            " 13  restecg_0  625 non-null    uint8  \n",
            " 14  restecg_1  625 non-null    uint8  \n",
            " 15  restecg_2  625 non-null    uint8  \n",
            " 16  slope_0    625 non-null    uint8  \n",
            " 17  slope_1    625 non-null    uint8  \n",
            " 18  slope_2    625 non-null    uint8  \n",
            " 19  ca_0       625 non-null    uint8  \n",
            " 20  ca_1       625 non-null    uint8  \n",
            " 21  ca_2       625 non-null    uint8  \n",
            " 22  ca_3       625 non-null    uint8  \n",
            " 23  ca_4       625 non-null    uint8  \n",
            " 24  thal_0     625 non-null    uint8  \n",
            " 25  thal_1     625 non-null    uint8  \n",
            " 26  thal_2     625 non-null    uint8  \n",
            " 27  thal_3     625 non-null    uint8  \n",
            "dtypes: float64(9), uint8(19)\n",
            "memory usage: 60.4 KB\n"
          ]
        }
      ]
    },
    {
      "cell_type": "markdown",
      "source": [
        "# 5. Splitting train & test data"
      ],
      "metadata": {
        "id": "RVssN9t62RDQ"
      }
    },
    {
      "cell_type": "code",
      "source": [
        "X = df_norm.iloc[:, df_norm.columns != 'target'].values \n",
        "y = df_norm['target'].values\n",
        "from sklearn.model_selection import train_test_split  \n",
        "X_train, X_test, y_train, y_test= train_test_split(X, y, test_size= 0.25, random_state=4)"
      ],
      "metadata": {
        "id": "VZuO1WPNp_hq"
      },
      "execution_count": null,
      "outputs": []
    },
    {
      "cell_type": "markdown",
      "source": [
        "# 6. KNN"
      ],
      "metadata": {
        "id": "lDxOBlHl2UoA"
      }
    },
    {
      "cell_type": "code",
      "source": [
        "error = []\n",
        "# Calculating error for K values between 1 and 10\n",
        "for i in range(2, 10):\n",
        "    knn = KNeighborsClassifier(n_neighbors=i)\n",
        "    knn.fit(X_train, y_train)\n",
        "    pred_i = knn.predict(X_test)\n",
        "    error.append(np.mean(pred_i != y_test))\n",
        "plt.figure(figsize=(12, 6))\n",
        "plt.plot(range(2, 10), error, color='red', linestyle='dashed', marker='o',\n",
        "         markerfacecolor='blue', markersize=10)\n",
        "plt.title('Error Rate K Value')\n",
        "plt.xlabel('K Value')\n",
        "plt.ylabel('Mean Error')"
      ],
      "metadata": {
        "colab": {
          "base_uri": "https://localhost:8080/",
          "height": 427
        },
        "id": "Iz_fuPxPqWMg",
        "outputId": "524ec4fc-d4d8-4c30-9de7-5123063542cf"
      },
      "execution_count": null,
      "outputs": [
        {
          "output_type": "execute_result",
          "data": {
            "text/plain": [
              "Text(0, 0.5, 'Mean Error')"
            ]
          },
          "metadata": {},
          "execution_count": 120
        },
        {
          "output_type": "display_data",
          "data": {
            "text/plain": [
              "<Figure size 864x432 with 1 Axes>"
            ],
            "image/png": "[encoded data removed]"
          },
          "metadata": {}
        }
      ]
    },
    {
      "cell_type": "code",
      "source": [
        "classifier= KNeighborsClassifier(n_neighbors=6)  \n",
        "classifier.fit(X_train, y_train)\n",
        "y_pred= classifier.predict(X_test) \n"
      ],
      "metadata": {
        "id": "YyABZENIuF9Y"
      },
      "execution_count": null,
      "outputs": []
    },
    {
      "cell_type": "code",
      "source": [
        "from sklearn.metrics import plot_confusion_matrix\n",
        "from sklearn.metrics import confusion_matrix  \n",
        "\n",
        "confusion_matrix(y_test, y_pred)\n",
        "disp = plot_confusion_matrix(classifier, X_test, y_test, cmap='Reds')\n",
        "plt.show()"
      ],
      "metadata": {
        "colab": {
          "base_uri": "https://localhost:8080/",
          "height": 285
        },
        "id": "EGPVkN_S0xld",
        "outputId": "f6cef02d-ef36-4bca-baba-7d856ced24db"
      },
      "execution_count": null,
      "outputs": [
        {
          "output_type": "display_data",
          "data": {
            "text/plain": [
              "<Figure size 432x288 with 2 Axes>"
            ],
            "image/png": "[encoded data removed]"
          },
          "metadata": {}
        }
      ]
    },
    {
      "cell_type": "code",
      "source": [
        "print(\"Recall score: {}\".format(recall_score(y_test,y_pred)))\n",
        "print(\"F1 Score: {}\".format(f1_score(y_test,y_pred)))\n",
        "\n",
        "#print(classification_report(y_test, y_pred))"
      ],
      "metadata": {
        "id": "g3arnbP-1Nwr",
        "colab": {
          "base_uri": "https://localhost:8080/"
        },
        "outputId": "eeba0fca-df0d-4c4c-eab9-ffa76fee474e"
      },
      "execution_count": null,
      "outputs": [
        {
          "output_type": "stream",
          "name": "stdout",
          "text": [
            "Recall score: 0.9779411764705882\n",
            "F1 Score: 0.9743589743589743\n"
          ]
        }
      ]
    },
    {
      "cell_type": "markdown",
      "source": [
        "# 7. SVM"
      ],
      "metadata": {
        "id": "A0pRx1dw2ZLY"
      }
    },
    {
      "cell_type": "code",
      "source": [
        "# Creating SVM model.\n",
        "from sklearn import svm\n",
        "clf = svm.SVC(kernel='rbf')\n",
        "clf.fit(X_train,y_train)\n",
        "y_pred = clf.predict(X_test)"
      ],
      "metadata": {
        "id": "Cej_S-G-2cjP"
      },
      "execution_count": null,
      "outputs": []
    },
    {
      "cell_type": "code",
      "source": [
        "disp = plot_confusion_matrix(clf, X_test, y_test, cmap='Reds')"
      ],
      "metadata": {
        "colab": {
          "base_uri": "https://localhost:8080/",
          "height": 285
        },
        "id": "0IZChorv5_L-",
        "outputId": "72365902-1b6a-4d46-8c7d-3cf252b4c5ac"
      },
      "execution_count": null,
      "outputs": [
        {
          "output_type": "display_data",
          "data": {
            "text/plain": [
              "<Figure size 432x288 with 2 Axes>"
            ],
            "image/png": "[encoded data removed]"
          },
          "metadata": {}
        }
      ]
    },
    {
      "cell_type": "code",
      "source": [
        "print(\"Recall score: {}\".format(recall_score(y_test,y_pred)))\n",
        "print(\"F1 Score: {}\".format(f1_score(y_test,y_pred)))"
      ],
      "metadata": {
        "colab": {
          "base_uri": "https://localhost:8080/"
        },
        "id": "qdqStoPR6OL1",
        "outputId": "16f3cbd5-18c5-48d8-d3f8-d44fbdef8ecb"
      },
      "execution_count": null,
      "outputs": [
        {
          "output_type": "stream",
          "name": "stdout",
          "text": [
            "Recall score: 0.9779411764705882\n",
            "F1 Score: 0.9743589743589743\n"
          ]
        }
      ]
    },
    {
      "cell_type": "markdown",
      "source": [
        "# 8. Oversampling "
      ],
      "metadata": {
        "id": "A872FytaG3Th"
      }
    },
    {
      "cell_type": "code",
      "source": [
        "# Oversampling and under sampling\n",
        "from imblearn.over_sampling import RandomOverSampler, SMOTE\n",
        "from imblearn.under_sampling import RandomUnderSampler, NearMiss\n",
        "from collections import Counter"
      ],
      "metadata": {
        "id": "nzvFb037HQQo"
      },
      "execution_count": null,
      "outputs": []
    },
    {
      "cell_type": "markdown",
      "source": [
        "## 8.1 ROS"
      ],
      "metadata": {
        "id": "neRATSRLKz-m"
      }
    },
    {
      "cell_type": "code",
      "source": [
        "# Randomly over sample the minority class\n",
        "ros = RandomOverSampler(random_state=42)\n",
        "X_train_ros, y_train_ros= ros.fit_resample(X_train, y_train)\n",
        "# Check the number of records after over sampling\n",
        "print(sorted(Counter(y_train_ros).items()))"
      ],
      "metadata": {
        "colab": {
          "base_uri": "https://localhost:8080/"
        },
        "id": "v6XUlZpLHn4p",
        "outputId": "47a5d73d-2353-4793-ed6a-6e7dd11bd865"
      },
      "execution_count": null,
      "outputs": [
        {
          "output_type": "stream",
          "name": "stdout",
          "text": [
            "[(0.0, 390), (1.0, 390)]\n"
          ]
        }
      ]
    },
    {
      "cell_type": "markdown",
      "source": [
        "### KNN"
      ],
      "metadata": {
        "id": "MjkmKM1PJz2Q"
      }
    },
    {
      "cell_type": "code",
      "source": [
        "error = []\n",
        "# Calculating error for K values between 1 and 10\n",
        "for i in range(2, 10):\n",
        "    knn = KNeighborsClassifier(n_neighbors=i)\n",
        "    knn.fit(X_train_ros, y_train_ros)\n",
        "    pred_i = knn.predict(X_test)\n",
        "    error.append(np.mean(pred_i != y_test))\n",
        "plt.figure(figsize=(12, 6))\n",
        "plt.plot(range(2, 10), error, color='red', linestyle='dashed', marker='o',\n",
        "         markerfacecolor='blue', markersize=10)\n",
        "plt.title('Error Rate K Value')\n",
        "plt.xlabel('K Value')\n",
        "plt.ylabel('Mean Error')"
      ],
      "metadata": {
        "colab": {
          "base_uri": "https://localhost:8080/",
          "height": 427
        },
        "id": "aOasdQ6jJtc3",
        "outputId": "a77f79e3-6730-4dc9-e024-f88bfba7e633"
      },
      "execution_count": null,
      "outputs": [
        {
          "output_type": "execute_result",
          "data": {
            "text/plain": [
              "Text(0, 0.5, 'Mean Error')"
            ]
          },
          "metadata": {},
          "execution_count": 129
        },
        {
          "output_type": "display_data",
          "data": {
            "text/plain": [
              "<Figure size 864x432 with 1 Axes>"
            ],
            "image/png": "[encoded data removed]"
          },
          "metadata": {}
        }
      ]
    },
    {
      "cell_type": "code",
      "source": [
        "classifier= KNeighborsClassifier(n_neighbors=3)  \n",
        "classifier.fit(X_train_ros, y_train_ros)\n",
        "y_pred= classifier.predict(X_test) "
      ],
      "metadata": {
        "id": "a7RVFf3tKHoH"
      },
      "execution_count": null,
      "outputs": []
    },
    {
      "cell_type": "code",
      "source": [
        "disp = plot_confusion_matrix(classifier, X_test, y_test, cmap='Reds')"
      ],
      "metadata": {
        "colab": {
          "base_uri": "https://localhost:8080/",
          "height": 285
        },
        "id": "hP-_U1zwKLE-",
        "outputId": "353d4386-697b-40d9-dbaf-363da9e4aa98"
      },
      "execution_count": null,
      "outputs": [
        {
          "output_type": "display_data",
          "data": {
            "text/plain": [
              "<Figure size 432x288 with 2 Axes>"
            ],
            "image/png": "[encoded data removed]"
          },
          "metadata": {}
        }
      ]
    },
    {
      "cell_type": "code",
      "source": [
        "print(\"Recall score: {}\".format(recall_score(y_test,y_pred)))\n",
        "print(\"F1 Score: {}\".format(f1_score(y_test,y_pred)))"
      ],
      "metadata": {
        "colab": {
          "base_uri": "https://localhost:8080/"
        },
        "id": "670Qu7dlKOzH",
        "outputId": "79cf31b6-23fc-4dc9-960c-5c57ee923d86"
      },
      "execution_count": null,
      "outputs": [
        {
          "output_type": "stream",
          "name": "stdout",
          "text": [
            "Recall score: 0.9558823529411765\n",
            "F1 Score: 0.966542750929368\n"
          ]
        }
      ]
    },
    {
      "cell_type": "markdown",
      "source": [
        "### SVM"
      ],
      "metadata": {
        "id": "DixzQyyQLp0n"
      }
    },
    {
      "cell_type": "code",
      "source": [
        "# Creating SVM model.\n",
        "from sklearn import svm\n",
        "clf = svm.SVC(kernel='rbf')\n",
        "clf.fit(X_train_ros,y_train_ros)\n",
        "y_pred = clf.predict(X_test)"
      ],
      "metadata": {
        "id": "3wGZbfHbLpTV"
      },
      "execution_count": null,
      "outputs": []
    },
    {
      "cell_type": "code",
      "source": [
        "disp = plot_confusion_matrix(classifier, X_test, y_test, cmap='Reds')"
      ],
      "metadata": {
        "colab": {
          "base_uri": "https://localhost:8080/",
          "height": 285
        },
        "id": "Odo_D8yJLuI1",
        "outputId": "4d1724ed-5d04-4bca-fda8-df394e9ddb5e"
      },
      "execution_count": null,
      "outputs": [
        {
          "output_type": "display_data",
          "data": {
            "text/plain": [
              "<Figure size 432x288 with 2 Axes>"
            ],
            "image/png": "[encoded data removed]"
          },
          "metadata": {}
        }
      ]
    },
    {
      "cell_type": "code",
      "source": [
        "print(\"Recall score: {}\".format(recall_score(y_test,y_pred)))\n",
        "print(\"F1 Score: {}\".format(f1_score(y_test,y_pred)))"
      ],
      "metadata": {
        "colab": {
          "base_uri": "https://localhost:8080/"
        },
        "id": "ooig2GxzLveN",
        "outputId": "e1556fff-52f6-4d21-fd87-d16f9e784be1"
      },
      "execution_count": null,
      "outputs": [
        {
          "output_type": "stream",
          "name": "stdout",
          "text": [
            "Recall score: 0.9779411764705882\n",
            "F1 Score: 0.981549815498155\n"
          ]
        }
      ]
    },
    {
      "cell_type": "markdown",
      "source": [
        "## 8.2 SMOTE"
      ],
      "metadata": {
        "id": "fc3GhHCYK3el"
      }
    },
    {
      "cell_type": "markdown",
      "source": [
        "Instead of randomly oversampling with replacement, SMOTE takes each minority sample and introduces synthetic data points connecting the minority sample and its nearest neighbors. Neighbors from the k nearest neighbors are chosen randomly."
      ],
      "metadata": {
        "id": "LuimLp80Iq5I"
      }
    },
    {
      "cell_type": "code",
      "source": [
        "# Randomly over sample the minority class\n",
        "smote = SMOTE(random_state=42)\n",
        "X_train_smote, y_train_smote= smote.fit_resample(X_train, y_train)\n",
        "# Check the number of records after over sampling\n",
        "print(sorted(Counter(y_train_smote).items()))"
      ],
      "metadata": {
        "colab": {
          "base_uri": "https://localhost:8080/"
        },
        "id": "nB4oaoVVIGbI",
        "outputId": "c330c69d-f32d-4073-bbd0-b78503832b03"
      },
      "execution_count": null,
      "outputs": [
        {
          "output_type": "stream",
          "name": "stdout",
          "text": [
            "[(0.0, 390), (1.0, 390)]\n"
          ]
        }
      ]
    },
    {
      "cell_type": "markdown",
      "source": [
        "### KNN"
      ],
      "metadata": {
        "id": "98CzyLwOK8-d"
      }
    },
    {
      "cell_type": "code",
      "source": [
        "error = []\n",
        "# Calculating error for K values between 1 and 10\n",
        "for i in range(2, 10):\n",
        "    knn = KNeighborsClassifier(n_neighbors=i)\n",
        "    knn.fit(X_train_smote, y_train_smote)\n",
        "    pred_i = knn.predict(X_test)\n",
        "    error.append(np.mean(pred_i != y_test))\n",
        "plt.figure(figsize=(12, 6))\n",
        "plt.plot(range(2, 10), error, color='red', linestyle='dashed', marker='o',\n",
        "         markerfacecolor='blue', markersize=10)\n",
        "plt.title('Error Rate K Value')\n",
        "plt.xlabel('K Value')\n",
        "plt.ylabel('Mean Error')"
      ],
      "metadata": {
        "colab": {
          "base_uri": "https://localhost:8080/",
          "height": 427
        },
        "id": "8TFq3C2OKoQP",
        "outputId": "ee99690c-3ee7-4a57-8ba9-302ada8d0a3e"
      },
      "execution_count": null,
      "outputs": [
        {
          "output_type": "execute_result",
          "data": {
            "text/plain": [
              "Text(0, 0.5, 'Mean Error')"
            ]
          },
          "metadata": {},
          "execution_count": 137
        },
        {
          "output_type": "display_data",
          "data": {
            "text/plain": [
              "<Figure size 864x432 with 1 Axes>"
            ],
            "image/png": "[encoded data removed]"
          },
          "metadata": {}
        }
      ]
    },
    {
      "cell_type": "code",
      "source": [
        "classifier= KNeighborsClassifier(n_neighbors=3)  \n",
        "classifier.fit(X_train_smote, y_train_smote)\n",
        "y_pred= classifier.predict(X_test) "
      ],
      "metadata": {
        "id": "3ZRY-ObSLE_m"
      },
      "execution_count": null,
      "outputs": []
    },
    {
      "cell_type": "code",
      "source": [
        "disp = plot_confusion_matrix(classifier, X_test, y_test, cmap='Reds')"
      ],
      "metadata": {
        "colab": {
          "base_uri": "https://localhost:8080/",
          "height": 285
        },
        "id": "a_Lij-KjLHK9",
        "outputId": "9443bb06-62b8-4ca9-d230-f99ba440ddb0"
      },
      "execution_count": null,
      "outputs": [
        {
          "output_type": "display_data",
          "data": {
            "text/plain": [
              "<Figure size 432x288 with 2 Axes>"
            ],
            "image/png": "[encoded data removed]"
          },
          "metadata": {}
        }
      ]
    },
    {
      "cell_type": "code",
      "source": [
        "print(\"Recall score: {}\".format(recall_score(y_test,y_pred)))\n",
        "print(\"F1 Score: {}\".format(f1_score(y_test,y_pred)))"
      ],
      "metadata": {
        "colab": {
          "base_uri": "https://localhost:8080/"
        },
        "id": "Jp1vi-JjLJIW",
        "outputId": "4da3fac7-f5ea-4901-a30d-e5fa2bb0739a"
      },
      "execution_count": null,
      "outputs": [
        {
          "output_type": "stream",
          "name": "stdout",
          "text": [
            "Recall score: 0.9558823529411765\n",
            "F1 Score: 0.966542750929368\n"
          ]
        }
      ]
    },
    {
      "cell_type": "markdown",
      "source": [
        "### SVM"
      ],
      "metadata": {
        "id": "qldDEW3RLdk1"
      }
    },
    {
      "cell_type": "code",
      "source": [
        "# Creating SVM model.\n",
        "from sklearn import svm\n",
        "clf = svm.SVC(kernel='rbf')\n",
        "clf.fit(X_train_smote,y_train_smote)\n",
        "y_pred = clf.predict(X_test)"
      ],
      "metadata": {
        "id": "ZZQm-OmKLguV"
      },
      "execution_count": null,
      "outputs": []
    },
    {
      "cell_type": "code",
      "source": [
        "disp = plot_confusion_matrix(classifier, X_test, y_test, cmap='Reds')"
      ],
      "metadata": {
        "colab": {
          "base_uri": "https://localhost:8080/",
          "height": 285
        },
        "id": "u7SIkxFhMIJu",
        "outputId": "9d3c4781-dcb3-451b-a887-bd3879cc6ea7"
      },
      "execution_count": null,
      "outputs": [
        {
          "output_type": "display_data",
          "data": {
            "text/plain": [
              "<Figure size 432x288 with 2 Axes>"
            ],
            "image/png": "[encoded data removed]"
          },
          "metadata": {}
        }
      ]
    },
    {
      "cell_type": "code",
      "source": [
        "print(\"Recall score: {}\".format(recall_score(y_test,y_pred)))\n",
        "print(\"F1 Score: {}\".format(f1_score(y_test,y_pred)))"
      ],
      "metadata": {
        "colab": {
          "base_uri": "https://localhost:8080/"
        },
        "id": "m-5OqSWDMJzk",
        "outputId": "5557c770-99a2-4d3a-bac5-8763fd79373c"
      },
      "execution_count": null,
      "outputs": [
        {
          "output_type": "stream",
          "name": "stdout",
          "text": [
            "Recall score: 0.9779411764705882\n",
            "F1 Score: 0.981549815498155\n"
          ]
        }
      ]
    },
    {
      "cell_type": "markdown",
      "source": [
        "# 9. Random Undersampling"
      ],
      "metadata": {
        "id": "X1O-FefJIMwA"
      }
    },
    {
      "cell_type": "markdown",
      "source": [
        "## 9.1 RUS"
      ],
      "metadata": {
        "id": "zPEFPcY8MwOn"
      }
    },
    {
      "cell_type": "code",
      "source": [
        "# Randomly under sample the majority class\n",
        "rus = RandomUnderSampler(random_state=42)\n",
        "X_train_rus, y_train_rus= rus.fit_resample(X_train, y_train)\n",
        "# Check the number of records after under sampling\n",
        "print(sorted(Counter(y_train_rus).items()))"
      ],
      "metadata": {
        "colab": {
          "base_uri": "https://localhost:8080/"
        },
        "id": "O3ezAf1YIPrv",
        "outputId": "d51f9a8f-3183-4847-de1c-83d837053d35"
      },
      "execution_count": null,
      "outputs": [
        {
          "output_type": "stream",
          "name": "stdout",
          "text": [
            "[(0.0, 78), (1.0, 78)]\n"
          ]
        }
      ]
    },
    {
      "cell_type": "markdown",
      "source": [
        "### KNN"
      ],
      "metadata": {
        "id": "c264lE4pM8Bt"
      }
    },
    {
      "cell_type": "code",
      "source": [
        "error = []\n",
        "# Calculating error for K values between 1 and 10\n",
        "for i in range(2, 10):\n",
        "    knn = KNeighborsClassifier(n_neighbors=i)\n",
        "    knn.fit(X_train_rus, y_train_rus)\n",
        "    pred_i = knn.predict(X_test)\n",
        "    error.append(np.mean(pred_i != y_test))\n",
        "plt.figure(figsize=(12, 6))\n",
        "plt.plot(range(2, 10), error, color='red', linestyle='dashed', marker='o',\n",
        "         markerfacecolor='blue', markersize=10)\n",
        "plt.title('Error Rate K Value')\n",
        "plt.xlabel('K Value')\n",
        "plt.ylabel('Mean Error')"
      ],
      "metadata": {
        "colab": {
          "base_uri": "https://localhost:8080/",
          "height": 427
        },
        "outputId": "39aef3f0-b492-4332-c0bc-cb3d5e1d14b8",
        "id": "z_55lu_1M8Bu"
      },
      "execution_count": null,
      "outputs": [
        {
          "output_type": "execute_result",
          "data": {
            "text/plain": [
              "Text(0, 0.5, 'Mean Error')"
            ]
          },
          "metadata": {},
          "execution_count": 145
        },
        {
          "output_type": "display_data",
          "data": {
            "text/plain": [
              "<Figure size 864x432 with 1 Axes>"
            ],
            "image/png": "[encoded data removed]"
          },
          "metadata": {}
        }
      ]
    },
    {
      "cell_type": "code",
      "source": [
        "classifier= KNeighborsClassifier(n_neighbors=5)  \n",
        "classifier.fit(X_train_rus, y_train_rus)\n",
        "y_pred= classifier.predict(X_test) "
      ],
      "metadata": {
        "id": "1sgRTwDMM8Bv"
      },
      "execution_count": null,
      "outputs": []
    },
    {
      "cell_type": "code",
      "source": [
        "disp = plot_confusion_matrix(classifier, X_test, y_test, cmap='Reds')"
      ],
      "metadata": {
        "colab": {
          "base_uri": "https://localhost:8080/",
          "height": 285
        },
        "outputId": "f5f2ee55-e69a-4f33-af45-1689960f66ad",
        "id": "tNFFcVsiM8Bw"
      },
      "execution_count": null,
      "outputs": [
        {
          "output_type": "display_data",
          "data": {
            "text/plain": [
              "<Figure size 432x288 with 2 Axes>"
            ],
            "image/png": "[encoded data removed]"
          },
          "metadata": {}
        }
      ]
    },
    {
      "cell_type": "code",
      "source": [
        "print(\"Recall score: {}\".format(recall_score(y_test,y_pred)))\n",
        "print(\"F1 Score: {}\".format(f1_score(y_test,y_pred)))"
      ],
      "metadata": {
        "colab": {
          "base_uri": "https://localhost:8080/"
        },
        "outputId": "4e24ff0c-3f7f-4449-ac47-cef8a1843ef7",
        "id": "XBUt9Et7M8Bw"
      },
      "execution_count": null,
      "outputs": [
        {
          "output_type": "stream",
          "name": "stdout",
          "text": [
            "Recall score: 0.8455882352941176\n",
            "F1 Score: 0.9090909090909091\n"
          ]
        }
      ]
    },
    {
      "cell_type": "code",
      "source": [
        "# Creating SVM model.\n",
        "from sklearn import svm\n",
        "clf = svm.SVC(kernel='rbf')\n",
        "clf.fit(X_train_rus,y_train_rus)\n",
        "y_pred = clf.predict(X_test)"
      ],
      "metadata": {
        "id": "5SW12Gm3NQBn"
      },
      "execution_count": null,
      "outputs": []
    },
    {
      "cell_type": "code",
      "source": [
        "disp = plot_confusion_matrix(classifier, X_test, y_test, cmap='Reds')"
      ],
      "metadata": {
        "colab": {
          "base_uri": "https://localhost:8080/",
          "height": 285
        },
        "outputId": "687fac6d-309e-4080-dc15-65a67b25fe08",
        "id": "8MzaVJOVNQBn"
      },
      "execution_count": null,
      "outputs": [
        {
          "output_type": "display_data",
          "data": {
            "text/plain": [
              "<Figure size 432x288 with 2 Axes>"
            ],
            "image/png": "[encoded data removed]"
          },
          "metadata": {}
        }
      ]
    },
    {
      "cell_type": "code",
      "source": [
        "print(\"Recall score: {}\".format(recall_score(y_test,y_pred)))\n",
        "print(\"F1 Score: {}\".format(f1_score(y_test,y_pred)))"
      ],
      "metadata": {
        "colab": {
          "base_uri": "https://localhost:8080/"
        },
        "outputId": "44f6bf24-91c2-4e4b-e979-7b3cf27339a3",
        "id": "XCyt6e_FNQBo"
      },
      "execution_count": null,
      "outputs": [
        {
          "output_type": "stream",
          "name": "stdout",
          "text": [
            "Recall score: 0.8161764705882353\n",
            "F1 Score: 0.8951612903225806\n"
          ]
        }
      ]
    },
    {
      "cell_type": "markdown",
      "source": [
        "## 9.2 NearMiss-3"
      ],
      "metadata": {
        "id": "bcWKmeqLMzof"
      }
    },
    {
      "cell_type": "markdown",
      "source": [
        "“NearMiss-3 is a 2-steps algorithm. First, for each negative sample, their M nearest-neighbors will be kept. Then, the positive samples selected are the one for which the average distance to the N nearest-neighbors is the largest.”"
      ],
      "metadata": {
        "id": "syAjvlqMJCSn"
      }
    },
    {
      "cell_type": "code",
      "source": [
        "# Under sample the majority class\n",
        "nearmiss = NearMiss(version=3)\n",
        "X_train_nearmiss, y_train_nearmiss= nearmiss.fit_resample(X_train, y_train)\n",
        "# Check the number of records after over sampling\n",
        "print(sorted(Counter(y_train_nearmiss).items()))"
      ],
      "metadata": {
        "colab": {
          "base_uri": "https://localhost:8080/"
        },
        "id": "O9FJrod4IlXf",
        "outputId": "86de28f6-70b7-48ee-ee64-44e2781d1902"
      },
      "execution_count": null,
      "outputs": [
        {
          "output_type": "stream",
          "name": "stdout",
          "text": [
            "[(0.0, 78), (1.0, 78)]\n"
          ]
        }
      ]
    },
    {
      "cell_type": "markdown",
      "source": [
        "### KNN"
      ],
      "metadata": {
        "id": "mDpHwXOHNjB1"
      }
    },
    {
      "cell_type": "code",
      "source": [
        "error = []\n",
        "# Calculating error for K values between 1 and 10\n",
        "for i in range(2, 10):\n",
        "    knn = KNeighborsClassifier(n_neighbors=i)\n",
        "    knn.fit(X_train_nearmiss, y_train_nearmiss)\n",
        "    pred_i = knn.predict(X_test)\n",
        "    error.append(np.mean(pred_i != y_test))\n",
        "plt.figure(figsize=(12, 6))\n",
        "plt.plot(range(2, 10), error, color='red', linestyle='dashed', marker='o',\n",
        "         markerfacecolor='blue', markersize=10)\n",
        "plt.title('Error Rate K Value')\n",
        "plt.xlabel('K Value')\n",
        "plt.ylabel('Mean Error')"
      ],
      "metadata": {
        "colab": {
          "base_uri": "https://localhost:8080/",
          "height": 427
        },
        "outputId": "b33d9a87-4b3b-4d17-9ad1-a995cf045205",
        "id": "vGWcSNPeNjB2"
      },
      "execution_count": null,
      "outputs": [
        {
          "output_type": "execute_result",
          "data": {
            "text/plain": [
              "Text(0, 0.5, 'Mean Error')"
            ]
          },
          "metadata": {},
          "execution_count": 153
        },
        {
          "output_type": "display_data",
          "data": {
            "text/plain": [
              "<Figure size 864x432 with 1 Axes>"
            ],
            "image/png": "[encoded data removed]"
          },
          "metadata": {}
        }
      ]
    },
    {
      "cell_type": "code",
      "source": [
        "classifier= KNeighborsClassifier(n_neighbors=5)  \n",
        "classifier.fit(X_train_nearmiss, y_train_nearmiss)\n",
        "y_pred= classifier.predict(X_test) "
      ],
      "metadata": {
        "id": "7myD8YygNjB2"
      },
      "execution_count": null,
      "outputs": []
    },
    {
      "cell_type": "code",
      "source": [
        "disp = plot_confusion_matrix(classifier, X_test, y_test, cmap='Reds')"
      ],
      "metadata": {
        "colab": {
          "base_uri": "https://localhost:8080/",
          "height": 285
        },
        "outputId": "56de4b1c-3b3a-4cac-9100-de9ad3ef6f84",
        "id": "ZvoCf5lzNjB3"
      },
      "execution_count": null,
      "outputs": [
        {
          "output_type": "display_data",
          "data": {
            "text/plain": [
              "<Figure size 432x288 with 2 Axes>"
            ],
            "image/png": "[encoded data removed]"
          },
          "metadata": {}
        }
      ]
    },
    {
      "cell_type": "code",
      "source": [
        "print(\"Recall score: {}\".format(recall_score(y_test,y_pred)))\n",
        "print(\"F1 Score: {}\".format(f1_score(y_test,y_pred)))"
      ],
      "metadata": {
        "colab": {
          "base_uri": "https://localhost:8080/"
        },
        "outputId": "4b0d8f04-86fb-4f2e-fbf2-95a3149d36dc",
        "id": "4KT5WOdhNjB3"
      },
      "execution_count": null,
      "outputs": [
        {
          "output_type": "stream",
          "name": "stdout",
          "text": [
            "Recall score: 0.8970588235294118\n",
            "F1 Score: 0.9312977099236641\n"
          ]
        }
      ]
    },
    {
      "cell_type": "markdown",
      "source": [
        "### SVM"
      ],
      "metadata": {
        "id": "lwVfHPyrNzKc"
      }
    },
    {
      "cell_type": "code",
      "source": [
        "# Creating SVM model.\n",
        "from sklearn import svm\n",
        "clf = svm.SVC(kernel='rbf')\n",
        "clf.fit(X_train_nearmiss,y_train_nearmiss)\n",
        "y_pred = clf.predict(X_test)"
      ],
      "metadata": {
        "id": "cB_knIDrNzKd"
      },
      "execution_count": null,
      "outputs": []
    },
    {
      "cell_type": "code",
      "source": [
        "disp = plot_confusion_matrix(classifier, X_test, y_test, cmap='Reds')"
      ],
      "metadata": {
        "colab": {
          "base_uri": "https://localhost:8080/",
          "height": 285
        },
        "outputId": "ad17bfff-dc91-482e-e01d-796fe34e19b9",
        "id": "U6dnGzKoNzKd"
      },
      "execution_count": null,
      "outputs": [
        {
          "output_type": "display_data",
          "data": {
            "text/plain": [
              "<Figure size 432x288 with 2 Axes>"
            ],
            "image/png": "[encoded data removed]"
          },
          "metadata": {}
        }
      ]
    },
    {
      "cell_type": "code",
      "source": [
        "print(\"Recall score: {}\".format(recall_score(y_test,y_pred)))\n",
        "print(\"F1 Score: {}\".format(f1_score(y_test,y_pred)))"
      ],
      "metadata": {
        "colab": {
          "base_uri": "https://localhost:8080/"
        },
        "outputId": "cafd33e2-2ea8-4d77-97fd-b48875ca0083",
        "id": "zJCYulpBNzKe"
      },
      "execution_count": null,
      "outputs": [
        {
          "output_type": "stream",
          "name": "stdout",
          "text": [
            "Recall score: 0.9558823529411765\n",
            "F1 Score: 0.962962962962963\n"
          ]
        }
      ]
    },
    {
      "cell_type": "markdown",
      "source": [
        "# Results\n",
        "\n",
        "\n",
        "##Best scores after oversampling: SMOTE + SVM\n",
        "\n",
        "f1-score: 0.98\n",
        "\n",
        "recall: 0.98\n",
        "\n",
        "##Best scores after undersampling: Nearmiss + SVM\n",
        "\n",
        "f1-score: 0.96\n",
        "\n",
        "recall: 0.96\n",
        "\n",
        "\n"
      ],
      "metadata": {
        "id": "iJ4c2vjIBRUp"
      }
    }
  ]
}